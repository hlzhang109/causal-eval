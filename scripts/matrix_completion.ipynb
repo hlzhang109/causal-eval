{
 "cells": [
  {
   "cell_type": "code",
   "execution_count": 1,
   "metadata": {
    "executionInfo": {
     "elapsed": 5,
     "status": "ok",
     "timestamp": 1740338750941,
     "user": {
      "displayName": "Jikai Jin",
      "userId": "04217813959834526607"
     },
     "user_tz": 480
    },
    "id": "JPX5KgEyeNjX"
   },
   "outputs": [],
   "source": [
    "# Change the directory to the Tables folder\n",
    "TABLE_DIR = '../Tables/'\n",
    "FIG_DIR = '../Figures/'\n",
    "FIG_DIR_0125 = '../Figures/new/[0, 1, 2, 5]/'"
   ]
  },
  {
   "cell_type": "code",
   "execution_count": 3,
   "metadata": {
    "executionInfo": {
     "elapsed": 5350,
     "status": "ok",
     "timestamp": 1740338529923,
     "user": {
      "displayName": "Jikai Jin",
      "userId": "04217813959834526607"
     },
     "user_tz": 480
    },
    "id": "JU0gPLJU7dYv"
   },
   "outputs": [],
   "source": [
    "import pandas as pd\n",
    "import numpy as np\n",
    "from scipy.optimize import minimize\n",
    "import matplotlib.pyplot as plt\n",
    "from mpl_toolkits.mplot3d import Axes3D\n",
    "from sklearn.decomposition import PCA\n",
    "from sklearn.impute import KNNImputer\n",
    "import seaborn as sns"
   ]
  },
  {
   "cell_type": "code",
   "execution_count": 5,
   "metadata": {
    "executionInfo": {
     "elapsed": 9,
     "status": "ok",
     "timestamp": 1740338543508,
     "user": {
      "displayName": "Jikai Jin",
      "userId": "04217813959834526607"
     },
     "user_tz": 480
    },
    "id": "cL9kT2D77jff"
   },
   "outputs": [],
   "source": [
    "from utils import *"
   ]
  },
  {
   "cell_type": "markdown",
   "metadata": {
    "id": "NtasJluyC4UG"
   },
   "source": [
    "This notebook comparesthe \"global\" approach for imputing missing observations with the \"local approach\". The difference is that the global approach uses data of all models, but the local approach only uses those with the selected four base models. We show that the local approach performs better. This is not surprising, because we already observe in the main paper that the principle component space of the full matrix is different from that of the selected submatrix."
   ]
  },
  {
   "cell_type": "code",
   "execution_count": 6,
   "metadata": {
    "executionInfo": {
     "elapsed": 1045,
     "status": "ok",
     "timestamp": 1740338545922,
     "user": {
      "displayName": "Jikai Jin",
      "userId": "04217813959834526607"
     },
     "user_tz": 480
    },
    "id": "F0hMVvU78Dp9"
   },
   "outputs": [],
   "source": [
    "# Base models that we will look at\n",
    "frequent_base_models_new = ['llama-3.1-8b', 'qwen2.5-14b', 'qwen2.5-7b', 'qwen2.5-0.5b', 'mistral-7b', 'gemma-2-9b']\n",
    "# Benchmarks included in the leaderboard\n",
    "cols_to_transform_new = ['IFEval', 'BBH', 'MATH Lvl 5', 'GPQA', 'MUSR', 'MMLU-PRO']\n",
    "# Load the leaderboard\n",
    "df_filtered_new = pd.read_csv(TABLE_DIR + 'open_llm_leaderboard_with_token_size.csv')\n",
    "\n",
    "model_names = [frequent_base_models_new[i] for i in [0, 1, 2, 5]]\n",
    "X = df_filtered_new[cols_to_transform_new].values\n",
    "X_subset = select_data(df_filtered_new, cols_to_transform_new, model_names)"
   ]
  },
  {
   "cell_type": "markdown",
   "metadata": {
    "id": "3aSU225IEIo-"
   },
   "source": [
    "We use the k-nearest neighbor algorithm to perform matrix completion."
   ]
  },
  {
   "cell_type": "code",
   "execution_count": 7,
   "metadata": {
    "executionInfo": {
     "elapsed": 96539,
     "status": "ok",
     "timestamp": 1740338647323,
     "user": {
      "displayName": "Jikai Jin",
      "userId": "04217813959834526607"
     },
     "user_tz": 480
    },
    "id": "wrgKJUS47my8"
   },
   "outputs": [],
   "source": [
    "np.random.seed(2025)\n",
    "\n",
    "n_rows, n_cols = X.shape\n",
    "\n",
    "M = 1000 # Repeat the experiment M times\n",
    "\n",
    "global_rmse_list = []\n",
    "local_rmse_list = []\n",
    "\n",
    "for m in range(M):\n",
    "\n",
    "  # --- Step 1: Generate and mask the data matrix ---\n",
    "\n",
    "  random_matrix = np.random.rand(n_rows, n_cols)\n",
    "\n",
    "  # Create a boolean mask where 'True' means the element is *not* masked (observed)\n",
    "  mask = random_matrix > 0.95\n",
    "\n",
    "\n",
    "  # Create the masked matrix (using np.nan for missing entries)\n",
    "  X_masked = X.copy()\n",
    "  X_masked[~mask] = np.nan\n",
    "\n",
    "  # --- Step 2: Define a subset of rows ---\n",
    "  subset_indices = choose_subset_indices(df_filtered_new, model_names)\n",
    "\n",
    "  # --- KNN Matrix Completion Function ---\n",
    "  def knn_matrix_completion(X_incomplete, n_neighbors=5):\n",
    "      \"\"\"\n",
    "      Complete the matrix using k-nearest neighbors imputation.\n",
    "\n",
    "      Parameters:\n",
    "          X_incomplete: 2D numpy array with np.nan at missing entries.\n",
    "          n_neighbors: Number of neighbors to use for imputation.\n",
    "\n",
    "      Returns:\n",
    "          X_completed: Completed matrix.\n",
    "      \"\"\"\n",
    "      imputer = KNNImputer(n_neighbors=n_neighbors)\n",
    "      X_completed = imputer.fit_transform(X_incomplete)\n",
    "      return X_completed\n",
    "\n",
    "  # --- Approach 1: Global Completion using KNN ---\n",
    "  X_completed_global = knn_matrix_completion(X_masked)\n",
    "\n",
    "  # --- Approach 2: Local Completion on the subset using KNN ---\n",
    "  # Extract the submatrix corresponding to the subset indices.\n",
    "  X_subset_masked = X_masked[subset_indices, :]\n",
    "  X_completed_local = knn_matrix_completion(X_subset_masked)\n",
    "\n",
    "  # --- Step 3: Evaluate Performance ---\n",
    "  # Compute the MSE on the missing entries in the submatrix.\n",
    "\n",
    "  # For the global completion, extract the corresponding rows.\n",
    "  global_missing = ~mask[subset_indices, :]\n",
    "  global_errors = (X[subset_indices, :][global_missing] - X_completed_global[subset_indices, :][global_missing]) ** 2\n",
    "  global_mse = np.nanmean(global_errors)\n",
    "\n",
    "  # For the local completion, compare the imputed submatrix with the true values.\n",
    "  local_missing = ~mask[subset_indices, :]\n",
    "  local_errors = (X[subset_indices, :][local_missing] - X_completed_local[local_missing]) ** 2\n",
    "  local_mse = np.nanmean(local_errors)\n",
    "\n",
    "  global_rmse_list.append(global_mse ** 0.5)\n",
    "  local_rmse_list.append(local_mse ** 0.5)"
   ]
  },
  {
   "cell_type": "markdown",
   "metadata": {
    "id": "7xAa0c6iEYTt"
   },
   "source": [
    "Compare the RMSE of the global and local approach."
   ]
  },
  {
   "cell_type": "code",
   "execution_count": 10,
   "metadata": {
    "colab": {
     "base_uri": "https://localhost:8080/",
     "height": 401
    },
    "executionInfo": {
     "elapsed": 711,
     "status": "ok",
     "timestamp": 1740338769875,
     "user": {
      "displayName": "Jikai Jin",
      "userId": "04217813959834526607"
     },
     "user_tz": 480
    },
    "id": "vB3ZnIJh9I1g",
    "outputId": "1666bacf-d5db-446b-b596-2a70523fbfa9"
   },
   "outputs": [
    {
     "data": {
      "image/png": "[encoded data removed]",
      "text/plain": [
       "<Figure size 800x400 with 1 Axes>"
      ]
     },
     "metadata": {},
     "output_type": "display_data"
    }
   ],
   "source": [
    "# Set a seaborn style (optional but recommended)\n",
    "sns.set_theme()\n",
    "\n",
    "# Choose a seaborn color palette\n",
    "sns.set_palette(\"deep\") # other options are: muted, pastel, bright, dark, colorblind, tab10, tab20\n",
    "\n",
    "plt.figure(figsize=(8, 4))\n",
    "plt.hist(global_rmse_list, bins=30, alpha=0.7, label='Global MC-kNN')\n",
    "plt.hist(local_rmse_list, bins=30, alpha=0.7, label='Local MC-kNN')\n",
    "plt.xlabel('RMSE', fontsize = 12)\n",
    "plt.ylabel('Frequency', fontsize = 12)\n",
    "# plt.title('Distribution of RMSE for Global and Local Matrix Completion')\n",
    "plt.legend()\n",
    "plt.tight_layout()\n",
    "plt.savefig(FIG_DIR + 'rmse_global_local.png')"
   ]
  }
 ],
 "metadata": {
  "colab": {
   "authorship_tag": "ABX9TyOI1/w9mGohIm/GWJeQHLl6",
   "provenance": []
  },
  "kernelspec": {
   "display_name": "Python 3 (ipykernel)",
   "language": "python",
   "name": "python3"
  },
  "language_info": {
   "codemirror_mode": {
    "name": "ipython",
    "version": 3
   },
   "file_extension": ".py",
   "mimetype": "text/x-python",
   "name": "python",
   "nbconvert_exporter": "python",
   "pygments_lexer": "ipython3",
   "version": "3.10.13"
  }
 },
 "nbformat": 4,
 "nbformat_minor": 4
}
