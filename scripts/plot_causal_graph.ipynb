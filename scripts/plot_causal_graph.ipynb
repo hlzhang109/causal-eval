{
 "cells": [
  {
   "cell_type": "code",
   "execution_count": null,
   "metadata": {
    "id": "JPX5KgEyeNjX"
   },
   "outputs": [],
   "source": [
    "# Change the directory to the Tables folder\n",
    "TABLE_DIR = '../Tables/'\n",
    "FIG_DIR = '../Figures/'"
   ]
  },
  {
   "cell_type": "markdown",
   "metadata": {
    "id": "GYucjx3I3bt_"
   },
   "source": [
    "Plot the exact and inexact (correlated noise) versions of a directed acyclic graph (DAG) with three nodes."
   ]
  },
  {
   "cell_type": "code",
   "execution_count": null,
   "metadata": {
    "id": "PgFZamFa3K3R"
   },
   "outputs": [],
   "source": [
    "import matplotlib.pyplot as plt\n",
    "import networkx as nx\n",
    "\n",
    "def plot_causal_graph():\n",
    "  plt.figure(figsize=(5, 5))\n",
    "  G = nx.DiGraph()\n",
    "\n",
    "  # Add nodes with LaTeX labels\n",
    "  G.add_nodes_from([\n",
    "      (1, {'label': r'$z_1$'}),  # Node 1 with label z_1\n",
    "      (2, {'label': r'$z_2$'}),  # Node 2 with label z_2\n",
    "      (3, {'label': r'$z_3$'}),  # Node 3 with label z_3\n",
    "      (4, {'label': r'$\\epsilon_1$'}),  # Node 4 with label epsilon_1\n",
    "      (5, {'label': r'$\\epsilon_2$'}),  # Node 5 with label epsilon_2\n",
    "      (6, {'label': r'$\\epsilon_3$'})   # Node 6 with label epsilon_3\n",
    "  ])\n",
    "\n",
    "  G.add_edges_from([(1, 2), (2, 3), (1, 3), (4, 1), (5, 2), (6, 3)])\n",
    "\n",
    "  pos = {\n",
    "      1: (0, 0),\n",
    "      2: (1, 0.5),\n",
    "      3: (2, 0),\n",
    "      4: (0, 1),\n",
    "      5: (1, 1.5),\n",
    "      6: (2, 1)\n",
    "  }\n",
    "\n",
    "  # Get labels from node attributes\n",
    "  labels = nx.get_node_attributes(G, 'label')\n",
    "\n",
    "  nx.draw(G, pos, with_labels=True, labels=labels, node_size=1000, node_color=\"white\", font_size=30, font_weight=\"bold\", arrowsize=30, width = 5)\n",
    "  # plt.title(\"Structural Causal Graph\")\n",
    "\n",
    "  plt.savefig(FIG_DIR + 'causal_graph.png', dpi=300)\n",
    "\n",
    "  dashed_edges = [(4, 5), (5, 6), (4, 6)]\n",
    "  nx.draw_networkx_edges(G, pos, edgelist=dashed_edges, style='dashed',\n",
    "                           arrows=False, width=2)\n",
    "  plt.savefig(FIG_DIR + 'confounded_causal_graph.png', dpi=300)\n",
    "\n",
    "plot_causal_graph()"
   ]
  }
 ],
 "metadata": {
  "colab": {
   "authorship_tag": "ABX9TyNNwPmIVdYDHwLMUVI5F8Om",
   "provenance": []
  },
  "kernelspec": {
   "display_name": "Python 3 (ipykernel)",
   "language": "python",
   "name": "python3"
  },
  "language_info": {
   "codemirror_mode": {
    "name": "ipython",
    "version": 3
   },
   "file_extension": ".py",
   "mimetype": "text/x-python",
   "name": "python",
   "nbconvert_exporter": "python",
   "pygments_lexer": "ipython3",
   "version": "3.10.13"
  }
 },
 "nbformat": 4,
 "nbformat_minor": 4
}
