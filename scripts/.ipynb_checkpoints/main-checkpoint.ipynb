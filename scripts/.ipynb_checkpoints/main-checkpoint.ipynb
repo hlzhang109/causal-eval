{
 "cells": [
  {
   "cell_type": "markdown",
   "metadata": {
    "id": "1pMzNEmoThci"
   },
   "source": [
    "In this notebook, we apply PCA, ICA and the LiNGCReL algorithm [1] to study the latent structure of the observed benchmark accuracy data.\n",
    "\n",
    "[1]. Jin, Jikai, and Vasilis Syrgkanis. \"[Learning Linear Causal Representations from General Environments: Identifiability and Intrinsic Ambiguity.](https://openreview.net/pdf?id=dB99jjwx3h)\" The Thirty-eighth Annual Conference on Neural Information Processing Systems."
   ]
  },
  {
   "cell_type": "code",
   "execution_count": 2,
   "metadata": {
    "executionInfo": {
     "elapsed": 9,
     "status": "ok",
     "timestamp": 1740338840867,
     "user": {
      "displayName": "Jikai Jin",
      "userId": "04217813959834526607"
     },
     "user_tz": 480
    },
    "id": "JPX5KgEyeNjX"
   },
   "outputs": [],
   "source": [
    "# Change the directory to the Tables folder\n",
    "TABLE_DIR = '../Tables/'\n",
    "FIG_DIR = '../Figures/'"
   ]
  },
  {
   "cell_type": "code",
   "execution_count": null,
   "metadata": {
    "id": "DETo9ArMeV29"
   },
   "outputs": [],
   "source": [
    "# !pip install datasets"
   ]
  },
  {
   "cell_type": "code",
   "execution_count": null,
   "metadata": {
    "id": "MV7SgBILeV-K"
   },
   "outputs": [],
   "source": [
    "# !git lfs install\n",
    "# !git clone https://huggingface.co/datasets/open-llm-leaderboard/results"
   ]
  },
  {
   "cell_type": "code",
   "execution_count": null,
   "metadata": {
    "id": "rxbiLqcWeWEp"
   },
   "outputs": [],
   "source": [
    "# ! pip install --upgrade datasets pyarrow"
   ]
  },
  {
   "cell_type": "code",
   "execution_count": 3,
   "metadata": {
    "executionInfo": {
     "elapsed": 3605,
     "status": "ok",
     "timestamp": 1740338846158,
     "user": {
      "displayName": "Jikai Jin",
      "userId": "04217813959834526607"
     },
     "user_tz": 480
    },
    "id": "26fJ_RYAeBOR"
   },
   "outputs": [],
   "source": [
    "import pandas as pd\n",
    "import numpy as np\n",
    "from scipy.optimize import minimize\n",
    "import matplotlib.pyplot as plt\n",
    "from mpl_toolkits.mplot3d import Axes3D\n",
    "from sklearn.decomposition import PCA\n",
    "from sklearn.impute import KNNImputer\n",
    "import seaborn as sns"
   ]
  },
  {
   "cell_type": "code",
   "execution_count": 5,
   "metadata": {
    "executionInfo": {
     "elapsed": 16,
     "status": "ok",
     "timestamp": 1740338855477,
     "user": {
      "displayName": "Jikai Jin",
      "userId": "04217813959834526607"
     },
     "user_tz": 480
    },
    "id": "NAQ9koNa-U98"
   },
   "outputs": [],
   "source": [
    "from utils import *"
   ]
  },
  {
   "cell_type": "markdown",
   "metadata": {
    "id": "MtbEG_jD2GIw"
   },
   "source": [
    "# Open LLM leaderboard (new version)"
   ]
  },
  {
   "cell_type": "code",
   "execution_count": 6,
   "metadata": {
    "executionInfo": {
     "elapsed": 1720,
     "status": "ok",
     "timestamp": 1740338872448,
     "user": {
      "displayName": "Jikai Jin",
      "userId": "04217813959834526607"
     },
     "user_tz": 480
    },
    "id": "bkC1XXRk8WGN"
   },
   "outputs": [],
   "source": [
    "%%capture\n",
    "df_new = pd.read_parquet(\"hf://datasets/open-llm-leaderboard/contents/data/train-00000-of-00001.parquet\")\n",
    "# df_new = pd.read_parquet(\"hf://datasets/open-llm-leaderboard-old/contents/data/train-00000-of-00001-96886cb34a7bc800.parquet\")"
   ]
  },
  {
   "cell_type": "code",
   "execution_count": 7,
   "metadata": {
    "colab": {
     "base_uri": "https://localhost:8080/"
    },
    "executionInfo": {
     "elapsed": 6,
     "status": "ok",
     "timestamp": 1740338875589,
     "user": {
      "displayName": "Jikai Jin",
      "userId": "04217813959834526607"
     },
     "user_tz": 480
    },
    "id": "ZVNVvjqYK6gp",
    "outputId": "a71f6754-4b8b-441e-c0de-2a21f59bf4ca"
   },
   "outputs": [
    {
     "data": {
      "text/plain": [
       "3913"
      ]
     },
     "execution_count": 7,
     "metadata": {},
     "output_type": "execute_result"
    }
   ],
   "source": [
    "len(df_new)"
   ]
  },
  {
   "cell_type": "code",
   "execution_count": 8,
   "metadata": {
    "executionInfo": {
     "elapsed": 2,
     "status": "ok",
     "timestamp": 1740338878380,
     "user": {
      "displayName": "Jikai Jin",
      "userId": "04217813959834526607"
     },
     "user_tz": 480
    },
    "id": "4HFSJYAt8eLf"
   },
   "outputs": [],
   "source": [
    "# Benchmarks included in the leaderboard\n",
    "cols_to_transform_new = ['IFEval', 'BBH', 'MATH Lvl 5', 'GPQA', 'MUSR', 'MMLU-PRO']\n",
    "\n",
    "# Base models that we will look at\n",
    "frequent_base_models_new = ['llama-3.1-8b', 'qwen2.5-14b', 'qwen2.5-7b', 'qwen2.5-0.5b', 'mistral-7b', 'gemma-2-9b']\n",
    "base_model_dict_new = {'llama-3': 15., 'qwen2': 7., 'qwen2.5': 18., 'mistral-7b': 0.8, 'gemma-2-9b': 9. }"
   ]
  },
  {
   "cell_type": "code",
   "execution_count": 9,
   "metadata": {
    "executionInfo": {
     "elapsed": 718,
     "status": "ok",
     "timestamp": 1740338880056,
     "user": {
      "displayName": "Jikai Jin",
      "userId": "04217813959834526607"
     },
     "user_tz": 480
    },
    "id": "-iVn69jP_xDB"
   },
   "outputs": [],
   "source": [
    "%%capture\n",
    "# Store the original leaderboard data as well as the data only for specific base models\n",
    "df_new, df_filtered_new = leaderboard_augment(df_new, cols_to_transform_new, base_model_dict_new)"
   ]
  },
  {
   "cell_type": "code",
   "execution_count": 10,
   "metadata": {
    "executionInfo": {
     "elapsed": 214,
     "status": "ok",
     "timestamp": 1740338881618,
     "user": {
      "displayName": "Jikai Jin",
      "userId": "04217813959834526607"
     },
     "user_tz": 480
    },
    "id": "SCFxb0zxPa8d"
   },
   "outputs": [],
   "source": [
    "df_filtered_new.to_csv(TABLE_DIR + 'open_llm_leaderboard_with_token_size.csv', index=False) # Call to_csv on the DataFrame object\n",
    "df_new.to_csv(TABLE_DIR + 'open_llm_leaderboard.csv', index=False)"
   ]
  },
  {
   "cell_type": "code",
   "execution_count": 11,
   "metadata": {
    "colab": {
     "base_uri": "https://localhost:8080/"
    },
    "executionInfo": {
     "elapsed": 8,
     "status": "ok",
     "timestamp": 1740338883374,
     "user": {
      "displayName": "Jikai Jin",
      "userId": "04217813959834526607"
     },
     "user_tz": 480
    },
    "id": "twtOjI4P_5Sw",
    "outputId": "901157fa-47eb-4c32-c2cc-16d850c3516d"
   },
   "outputs": [
    {
     "name": "stdout",
     "output_type": "stream",
     "text": [
      "llama-3.1-8b appears 103 times\n",
      "qwen2.5-14b appears 60 times\n",
      "qwen2.5-7b appears 77 times\n",
      "qwen2.5-0.5b appears 110 times\n",
      "mistral-7b appears 64 times\n",
      "gemma-2-9b appears 88 times\n"
     ]
    }
   ],
   "source": [
    "frequent_base_models_dict_new = {}\n",
    "# Find numbers appearing at least 50 times in 'Pretraining compute'\n",
    "# frequent_base_models_new = ['llama-3.1-8b', 'qwen2.5-14b', 'qwen2.5-7b', 'qwen2.5-0.5b', 'mistral-7b', 'gemma-2-9b']\n",
    "\n",
    "for model_name in frequent_base_models_new:\n",
    "  # Find rows where 'fullname' contains the model_name\n",
    "  matching_rows = df_filtered_new[df_filtered_new['fullname'].str.lower().str.contains(model_name)]\n",
    "  print(f'{model_name} appears {len(matching_rows)} times')\n",
    "\n",
    "  # Check if any matching rows were found\n",
    "  if not matching_rows.empty:\n",
    "    # If rows were found, select the first row\n",
    "    matching_row = matching_rows.iloc[0]\n",
    "\n",
    "    # Store the 'Pretraining compute' value in the dictionary\n",
    "    frequent_base_models_dict_new[model_name] = matching_row['Pretraining compute']\n",
    "  else:\n",
    "    # If no rows were found, print a message or handle the case accordingly\n",
    "    print(f\"No rows found for model name: {model_name}\")"
   ]
  },
  {
   "cell_type": "code",
   "execution_count": 12,
   "metadata": {
    "executionInfo": {
     "elapsed": 5,
     "status": "ok",
     "timestamp": 1740338885530,
     "user": {
      "displayName": "Jikai Jin",
      "userId": "04217813959834526607"
     },
     "user_tz": 480
    },
    "id": "HRRi-f_ystMk"
   },
   "outputs": [],
   "source": [
    "import os\n",
    "FIG_NEW_DIR = FIG_DIR + 'new/'\n",
    "FIG_NEW_PCA_DIR = FIG_NEW_DIR + 'pca_summary/'\n",
    "FIG_NEW_ICA_DIR = FIG_NEW_DIR + 'ica_summary/'\n",
    "if not os.path.exists(FIG_NEW_DIR):\n",
    "  os.makedirs(FIG_NEW_DIR)\n",
    "if not os.path.exists(FIG_NEW_PCA_DIR):\n",
    "  os.makedirs(FIG_NEW_PCA_DIR)"
   ]
  },
  {
   "cell_type": "code",
   "execution_count": 13,
   "metadata": {
    "colab": {
     "base_uri": "https://localhost:8080/"
    },
    "executionInfo": {
     "elapsed": 3,
     "status": "ok",
     "timestamp": 1740338886952,
     "user": {
      "displayName": "Jikai Jin",
      "userId": "04217813959834526607"
     },
     "user_tz": 480
    },
    "id": "yIYslbD6zESo",
    "outputId": "75e42bc7-ad3b-4b29-85f8-3dfd032ba167"
   },
   "outputs": [
    {
     "data": {
      "text/plain": [
       "980"
      ]
     },
     "execution_count": 13,
     "metadata": {},
     "output_type": "execute_result"
    }
   ],
   "source": [
    "len(df_filtered_new)"
   ]
  },
  {
   "cell_type": "markdown",
   "metadata": {
    "id": "29K1JF1r3Joo"
   },
   "source": [
    "## Perform PCA and ICA on invididual environments\n",
    "\n",
    "From now on, we will treat the data (leaderboard performance) of all models with a specific base model as one single environment. Therefore, the previously defined five base models induce five environments, each of which contains a few observational data."
   ]
  },
  {
   "cell_type": "code",
   "execution_count": 14,
   "metadata": {
    "executionInfo": {
     "elapsed": 13476,
     "status": "ok",
     "timestamp": 1740338906683,
     "user": {
      "displayName": "Jikai Jin",
      "userId": "04217813959834526607"
     },
     "user_tz": 480
    },
    "id": "cO-lbERYEAcd"
   },
   "outputs": [],
   "source": [
    "%%capture\n",
    "fig_pca_new, fig_ica_new, fig_pca_sim_new, fig_ica_sim_new, unmixing_matrices_new = component_analysis(df_filtered_new, cols_to_transform_new, frequent_base_models_dict_new, num_cols = len(frequent_base_models_new))\n",
    "fig_pca_new.savefig(FIG_NEW_PCA_DIR + 'pca_plot_new.png', dpi=300)  # Save fig_pca to a PNG file\n",
    "fig_ica_new.savefig(FIG_NEW_ICA_DIR + 'ica_plot_new.png', dpi=300)  # Save fig_ica to a PNG file\n",
    "fig_pca_sim_new.savefig(FIG_NEW_PCA_DIR + 'pca_similarity_new.png', dpi=300)  # Save fig_pca to a PNG file\n",
    "fig_ica_sim_new.savefig(FIG_NEW_ICA_DIR + 'ica_similarity_new.png', dpi=300)  # Save fig_ica to a PNG file"
   ]
  },
  {
   "cell_type": "code",
   "execution_count": 15,
   "metadata": {
    "executionInfo": {
     "elapsed": 2754,
     "status": "ok",
     "timestamp": 1740338914009,
     "user": {
      "displayName": "Jikai Jin",
      "userId": "04217813959834526607"
     },
     "user_tz": 480
    },
    "id": "MU7zYV9uR-MB"
   },
   "outputs": [],
   "source": [
    "%%capture\n",
    "df_filtered_new.reset_index(drop=True, inplace=True)\n",
    "\n",
    "model_names = [frequent_base_models_new[i] for i in [0, 1, 2, 5]]\n",
    "X = df_filtered_new[cols_to_transform_new].values\n",
    "X_subset = select_data(df_filtered_new, cols_to_transform_new, model_names)\n",
    "fig, fig_sv = plot_combined_pca(X, X_subset, cols_to_transform_new)\n",
    "fig.savefig(FIG_NEW_PCA_DIR + 'pca_compare.png', dpi=300)\n",
    "fig_sv.savefig(FIG_NEW_PCA_DIR + 'sv_compare.png', dpi=300)"
   ]
  },
  {
   "cell_type": "markdown",
   "metadata": {
    "id": "3ahm6tvO38NG"
   },
   "source": [
    "## Run the LiNGCReL algorithm to find the causal graph\n",
    "\n",
    "Note that identification is always up to permutation for each single environment. LiNGCReL also aligns the rows of the unmixing matrices (returned by ICA) across different environments, such that the aligned rows correspond to the same causal factor in the causal graph."
   ]
  },
  {
   "cell_type": "code",
   "execution_count": 16,
   "metadata": {
    "executionInfo": {
     "elapsed": 5,
     "status": "ok",
     "timestamp": 1740338918303,
     "user": {
      "displayName": "Jikai Jin",
      "userId": "04217813959834526607"
     },
     "user_tz": 480
    },
    "id": "toL01w9ZE3Hi"
   },
   "outputs": [],
   "source": [
    "# Define the index set of environments that we will look at\n",
    "\n",
    "base_model_indices_new = [1, 2, 3]\n",
    "\n",
    "def LiNGCReL(base_model_indices):\n",
    "  return process_matrices([unmixing_matrices_new[i] for i in base_model_indices])"
   ]
  },
  {
   "cell_type": "markdown",
   "metadata": {
    "id": "D89Fjp6J5Uzf"
   },
   "source": [
    "## Plot the distribution of the recovered causal factors"
   ]
  },
  {
   "cell_type": "code",
   "execution_count": 17,
   "metadata": {
    "collapsed": true,
    "executionInfo": {
     "elapsed": 44,
     "status": "ok",
     "timestamp": 1740338924808,
     "user": {
      "displayName": "Jikai Jin",
      "userId": "04217813959834526607"
     },
     "user_tz": 480
    },
    "id": "OK-mb9faaB5b",
    "jupyter": {
     "outputs_hidden": true
    }
   },
   "outputs": [],
   "source": [
    "import matplotlib.pyplot as plt\n",
    "from mpl_toolkits.mplot3d import Axes3D\n",
    "\n",
    "def plot_results(base_model_indices):\n",
    "  FIG_NEW_DIR = FIG_DIR + 'new/' + str(base_model_indices) + '/'\n",
    "  FIG_NEW_CAUSAL_FACTORS_3D_DIR = FIG_NEW_DIR + 'causal_factors_3d/'\n",
    "  FIG_NEW_NOISE_FACTORS_3D_DIR = FIG_NEW_DIR + 'noise_factors_3d/'\n",
    "  FIG_NEW_ICA_UNMIXING_DIR = FIG_NEW_DIR + 'ica_unmixing/'\n",
    "  FIG_NEW_CAUSAL_WEIGHT_DIR = FIG_NEW_DIR + 'causal_weights/'\n",
    "  FIG_NEW_MIXING_DIR = FIG_NEW_DIR + 'mixing_matrix/'\n",
    "\n",
    "  for nested_dir in [FIG_NEW_CAUSAL_FACTORS_3D_DIR, FIG_NEW_NOISE_FACTORS_3D_DIR, \\\n",
    "                     FIG_NEW_ICA_UNMIXING_DIR, FIG_NEW_CAUSAL_WEIGHT_DIR, FIG_NEW_MIXING_DIR]:\n",
    "    if not os.path.exists(nested_dir):\n",
    "      os.makedirs(nested_dir)\n",
    "\n",
    "  LiB, min_eig_list_new, unmixing_matrices_sorted_new = LiNGCReL(base_model_indices)\n",
    "  # M_opt_new = find_mixing_matrix(unmixing_matrices_sorted_new, base_model_indices)\n",
    "  # unmixing_matrix_new, res = solve_for_H(unmixing_matrices_sorted_new)\n",
    "  unmixing_matrix_new = recover_H(unmixing_matrices_sorted_new)\n",
    "\n",
    "  for i, matrix in enumerate(unmixing_matrices_sorted_new):\n",
    "    noise = df_filtered_new[cols_to_transform_new].values @ matrix.T\n",
    "    causal = np.dot(noise, np.linalg.inv(matrix @ unmixing_matrix_new.T))\n",
    "    model = frequent_base_models_new[base_model_indices[i]]\n",
    "\n",
    "    fig_noise = plot_3d(noise, model, [r'$\\epsilon_1$', r'$\\epsilon_2$', r'$\\epsilon_3$'])\n",
    "    fig_noise.savefig(FIG_NEW_NOISE_FACTORS_3D_DIR + f'{model}.png', dpi=300)\n",
    "    plt.close(fig_noise)\n",
    "\n",
    "    fig_causal = plot_3d(causal, model, [r'$z_1$', r'$z_2$', r'$z_3'])\n",
    "    fig_causal.savefig(FIG_NEW_CAUSAL_FACTORS_3D_DIR + f'{model}.png', dpi=300)\n",
    "    plt.close(fig_causal)\n",
    "\n",
    "\n",
    "  fig_unmixing_ica_new, fig_weight_new, fig_M_opt_new, diag_ratio, fig_cov = \\\n",
    "        plot_crl_results(unmixing_matrix_new, cols_to_transform_new, unmixing_matrices_sorted_new, [frequent_base_models_new[i] for i in base_model_indices])\n",
    "\n",
    "  for i in range(len(fig_unmixing_ica_new)):\n",
    "    fig_unmixing_ica_new[i].savefig(FIG_NEW_ICA_UNMIXING_DIR + f'ica_unmixing_new_' + str(frequent_base_models_new[base_model_indices[i]]) + '.png', dpi=300)\n",
    "    fig_weight_new[i].savefig(FIG_NEW_CAUSAL_WEIGHT_DIR + f'causal_weight_new_' + str(frequent_base_models_new[base_model_indices[i]]) + '.png', dpi=300)\n",
    "    plt.close(fig_unmixing_ica_new[i])\n",
    "    plt.close(fig_weight_new[i])\n",
    "\n",
    "  # Mixing matrix\n",
    "\n",
    "  fig_M_opt_new.savefig(FIG_NEW_MIXING_DIR + f'causal_mixing_new.png', dpi=300)\n",
    "  plt.close(fig_M_opt_new)\n",
    "\n",
    "  fig_cov.savefig(FIG_NEW_MIXING_DIR + f'cov_noise_new.png', dpi=300)\n",
    "  plt.close(fig_cov)\n",
    "\n",
    "  return diag_ratio\n"
   ]
  },
  {
   "cell_type": "code",
   "execution_count": null,
   "metadata": {
    "id": "87zJrwgdRTL5"
   },
   "outputs": [],
   "source": [
    "# prompt: for any subset of [0,1,2,3,4], run plot_results on the index list. print out each subset and the corresponding value of unex_var\n",
    "\n",
    "import itertools\n",
    "\n",
    "# Assuming plot_results is defined as in the provided code\n",
    "# and frequent_base_models_new is also defined\n",
    "\n",
    "diag_ratio_dict = {}\n",
    "\n",
    "for i in range(1, len(frequent_base_models_new) + 1):\n",
    "  for subset in itertools.combinations(range(len(frequent_base_models_new)), i):\n",
    "    subset_list = list(subset)\n",
    "\n",
    "    if len(subset_list) >= 4:\n",
    "      # print(f\"Index of the chosen environments (base models): {subset_list}\")\n",
    "\n",
    "      diag_ratio = plot_results(subset_list)\n",
    "      diag_ratio_dict[tuple(subset_list)] = diag_ratio\n",
    "      # print(f\"sum of off diagonal entries / sum of all entries: {diag_ratio}\")\n"
   ]
  },
  {
   "cell_type": "markdown",
   "metadata": {
    "id": "VSH0b0Es_9La"
   },
   "source": [
    "Plot the sum of the ratio between off-diagnal v.s. all entries for each index set with at least four elements. This part is designed to visualize the relative well-fitness of the hypothesized causal model for each possible choice of environments. We compare with randomly generated data without any causal patterns."
   ]
  },
  {
   "cell_type": "code",
   "execution_count": 19,
   "metadata": {
    "colab": {
     "base_uri": "https://localhost:8080/",
     "height": 596
    },
    "executionInfo": {
     "elapsed": 1480,
     "status": "ok",
     "timestamp": 1740339241234,
     "user": {
      "displayName": "Jikai Jin",
      "userId": "04217813959834526607"
     },
     "user_tz": 480
    },
    "id": "UEE8T3OAkOEx",
    "outputId": "97788a7e-9449-474a-8a29-3e9c254683a4"
   },
   "outputs": [
    {
     "name": "stderr",
     "output_type": "stream",
     "text": [
      "<ipython-input-19-996481cb649b>:20: FutureWarning: \n",
      "\n",
      "Passing `palette` without assigning `hue` is deprecated and will be removed in v0.14.0. Assign the `x` variable to `hue` and set `legend=False` for the same effect.\n",
      "\n",
      "  ax = sns.barplot(x=x_labels, y=sorted_heights, palette=[palette[s - 4] for s in tuple_sizes])\n"
     ]
    },
    {
     "data": {
      "image/png": "[encoded data removed]",
      "text/plain": [
       "<Figure size 1000x500 with 1 Axes>"
      ]
     },
     "metadata": {},
     "output_type": "display_data"
    }
   ],
   "source": [
    "filtered_keys = [key for key in diag_ratio_dict]\n",
    "\n",
    "# Calculate sum of values for each key\n",
    "bar_heights = [np.sum(diag_ratio_dict[key]) for key in filtered_keys]\n",
    "\n",
    "# Sort bars\n",
    "sorted_indices = np.argsort(bar_heights)\n",
    "sorted_keys = [filtered_keys[i] for i in sorted_indices]\n",
    "sorted_heights = [bar_heights[i] for i in sorted_indices]\n",
    "\n",
    "x_labels = [str(set(element + 1 for element in t)) for t in sorted_keys]\n",
    "\n",
    "\n",
    "# 1. Assign colors based on tuple size\n",
    "tuple_sizes = [len(t) for t in sorted_keys]\n",
    "palette = sns.color_palette('viridis', max(tuple_sizes)-3)  # Use 'Spectral' palette\n",
    "\n",
    "# 2. Plot dashed lines with labels and consistent colors\n",
    "plt.figure(figsize=(10, 5))\n",
    "ax = sns.barplot(x=x_labels, y=sorted_heights, palette=[palette[s - 4] for s in tuple_sizes])\n",
    "\n",
    "# Dashed lines with random labels\n",
    "random_lines = [2.90, 3.88, 4.84]  # Y-values for the dashed lines\n",
    "\n",
    "for i, y_val in enumerate(random_lines):\n",
    "    plt.axhline(y=y_val, color=palette[i], linestyle='--',\n",
    "                label=r'$K=$'+str(i+4)+' with random data')  # Start with i + 3 for tuple size 3 and above\n",
    "\n",
    "plt.xlabel(\"Index set for the environments (base models)\", fontsize = 12)\n",
    "plt.ylabel(\"Total correlation of noise factors\", fontsize = 12)\n",
    "# plt.title(\"Barplot of Unexplained Variance for Keys with 3 Elements\")\n",
    "plt.xticks(rotation=45, ha=\"right\")  # Rotate x-axis labels for readability\n",
    "plt.legend()\n",
    "plt.tight_layout()\n",
    "plt.savefig(FIG_DIR + 'new/noise_cor.png', dpi=300)\n"
   ]
  }
 ],
 "metadata": {
  "colab": {
   "authorship_tag": "ABX9TyNpI65TzjAhdvLhJJs06OgE",
   "provenance": []
  },
  "kernelspec": {
   "display_name": "Python 3 (ipykernel)",
   "language": "python",
   "name": "python3"
  },
  "language_info": {
   "codemirror_mode": {
    "name": "ipython",
    "version": 3
   },
   "file_extension": ".py",
   "mimetype": "text/x-python",
   "name": "python",
   "nbconvert_exporter": "python",
   "pygments_lexer": "ipython3",
   "version": "3.10.13"
  }
 },
 "nbformat": 4,
 "nbformat_minor": 4
}
